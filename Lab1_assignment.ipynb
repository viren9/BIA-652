{
 "cells": [
  {
   "cell_type": "markdown",
   "metadata": {
    "colab_type": "text",
    "id": "4ZFQ2nroIQrO"
   },
   "source": [
    "# BIA-652 Lab 1 Assignment. Intro to Pandas"
   ]
  },
  {
   "cell_type": "markdown",
   "metadata": {
    "colab_type": "text",
    "id": "h8FVQszQUqzN"
   },
   "source": [
    "Note: Please **DO NOT** share your answers with anyone, including uploading to Github, Course Hero, etc. "
   ]
  },
  {
   "cell_type": "markdown",
   "metadata": {
    "colab_type": "text",
    "id": "ugJf5_2iUqzO"
   },
   "source": [
    "### Your Name: "
   ]
  },
  {
   "cell_type": "code",
   "execution_count": 32,
   "metadata": {
    "colab": {},
    "colab_type": "code",
    "id": "Cd9bmDa6UqzP"
   },
   "outputs": [],
   "source": [
    "import numpy as np #numerical computation\n",
    "import pandas as pd #processing dataframes"
   ]
  },
  {
   "cell_type": "markdown",
   "metadata": {
    "colab_type": "text",
    "id": "PPRNhLHtIQrP"
   },
   "source": [
    "Use the `RegularSeasonCompactResults` data to answer the following questions:  "
   ]
  },
  {
   "cell_type": "code",
   "execution_count": 33,
   "metadata": {
    "colab": {},
    "colab_type": "code",
    "id": "2Ze7OCGGUqzU"
   },
   "outputs": [],
   "source": [
    "# Download example data set\n",
    "import urllib.request\n",
    "from zipfile import ZipFile\n",
    "\n",
    "urllib.request.urlretrieve(\"http://fengmai.net/download/data/bia652/pandas_data.zip\", \n",
    "                           \"pandas_data.zip\")\n",
    "ZipFile(\"pandas_data.zip\").extractall()\n",
    "df = pd.read_csv('data/RegularSeasonCompactResults.csv')"
   ]
  },
  {
   "cell_type": "markdown",
   "metadata": {
    "colab_type": "text",
    "id": "95htFBkZIQrP"
   },
   "source": [
    "__Q1: Create a new column `total_score` as the sum of Wscore and Lscore.__ "
   ]
  },
  {
   "cell_type": "code",
   "execution_count": 34,
   "metadata": {
    "colab": {
     "base_uri": "https://localhost:8080/",
     "height": 202
    },
    "colab_type": "code",
    "id": "_lbc4nTsWej2",
    "outputId": "3d68159a-0a8f-4cc1-fe46-82a63dbe2501"
   },
   "outputs": [
    {
     "data": {
      "text/html": [
       "<div>\n",
       "<style scoped>\n",
       "    .dataframe tbody tr th:only-of-type {\n",
       "        vertical-align: middle;\n",
       "    }\n",
       "\n",
       "    .dataframe tbody tr th {\n",
       "        vertical-align: top;\n",
       "    }\n",
       "\n",
       "    .dataframe thead th {\n",
       "        text-align: right;\n",
       "    }\n",
       "</style>\n",
       "<table border=\"1\" class=\"dataframe\">\n",
       "  <thead>\n",
       "    <tr style=\"text-align: right;\">\n",
       "      <th></th>\n",
       "      <th>Season</th>\n",
       "      <th>Daynum</th>\n",
       "      <th>Wteam</th>\n",
       "      <th>Wscore</th>\n",
       "      <th>Lteam</th>\n",
       "      <th>Lscore</th>\n",
       "      <th>Wloc</th>\n",
       "      <th>Numot</th>\n",
       "      <th>total_score</th>\n",
       "    </tr>\n",
       "  </thead>\n",
       "  <tbody>\n",
       "    <tr>\n",
       "      <th>0</th>\n",
       "      <td>1985</td>\n",
       "      <td>20</td>\n",
       "      <td>1228</td>\n",
       "      <td>81</td>\n",
       "      <td>1328</td>\n",
       "      <td>64</td>\n",
       "      <td>N</td>\n",
       "      <td>0</td>\n",
       "      <td>145</td>\n",
       "    </tr>\n",
       "    <tr>\n",
       "      <th>1</th>\n",
       "      <td>1985</td>\n",
       "      <td>25</td>\n",
       "      <td>1106</td>\n",
       "      <td>77</td>\n",
       "      <td>1354</td>\n",
       "      <td>70</td>\n",
       "      <td>H</td>\n",
       "      <td>0</td>\n",
       "      <td>147</td>\n",
       "    </tr>\n",
       "    <tr>\n",
       "      <th>2</th>\n",
       "      <td>1985</td>\n",
       "      <td>25</td>\n",
       "      <td>1112</td>\n",
       "      <td>63</td>\n",
       "      <td>1223</td>\n",
       "      <td>56</td>\n",
       "      <td>H</td>\n",
       "      <td>0</td>\n",
       "      <td>119</td>\n",
       "    </tr>\n",
       "    <tr>\n",
       "      <th>3</th>\n",
       "      <td>1985</td>\n",
       "      <td>25</td>\n",
       "      <td>1165</td>\n",
       "      <td>70</td>\n",
       "      <td>1432</td>\n",
       "      <td>54</td>\n",
       "      <td>H</td>\n",
       "      <td>0</td>\n",
       "      <td>124</td>\n",
       "    </tr>\n",
       "    <tr>\n",
       "      <th>4</th>\n",
       "      <td>1985</td>\n",
       "      <td>25</td>\n",
       "      <td>1192</td>\n",
       "      <td>86</td>\n",
       "      <td>1447</td>\n",
       "      <td>74</td>\n",
       "      <td>H</td>\n",
       "      <td>0</td>\n",
       "      <td>160</td>\n",
       "    </tr>\n",
       "  </tbody>\n",
       "</table>\n",
       "</div>"
      ],
      "text/plain": [
       "   Season  Daynum  Wteam  Wscore  Lteam  Lscore Wloc  Numot  total_score\n",
       "0    1985      20   1228      81   1328      64    N      0          145\n",
       "1    1985      25   1106      77   1354      70    H      0          147\n",
       "2    1985      25   1112      63   1223      56    H      0          119\n",
       "3    1985      25   1165      70   1432      54    H      0          124\n",
       "4    1985      25   1192      86   1447      74    H      0          160"
      ]
     },
     "execution_count": 34,
     "metadata": {
      "tags": []
     },
     "output_type": "execute_result"
    }
   ],
   "source": [
    "\n",
    "total_score = df[\"Wscore\"]+df[\"Lscore\"]\n",
    "df[\"total_score\"] = total_score\n",
    "df.head()"
   ]
  },
  {
   "cell_type": "markdown",
   "metadata": {
    "colab_type": "text",
    "id": "xTQdzwXPIQrR"
   },
   "source": [
    "__Q2: What is the min, max, average, and median of the total_score?__ "
   ]
  },
  {
   "cell_type": "code",
   "execution_count": 135,
   "metadata": {
    "colab": {
     "base_uri": "https://localhost:8080/",
     "height": 87
    },
    "colab_type": "code",
    "id": "oIorUFVabJAg",
    "outputId": "25898a9c-12d3-480a-bd26-eaee88854742"
   },
   "outputs": [
    {
     "name": "stdout",
     "output_type": "stream",
     "text": [
      "Maximum = 331\n",
      "Minimum = 62\n",
      "Minimum = 140.0\n",
      "Minimum = 141.0973301488757\n"
     ]
    }
   ],
   "source": [
    "df_max = df[\"total_score\"].max()\n",
    "df_min = df[\"total_score\"].min()\n",
    "df_mean = df[\"total_score\"].mean()\n",
    "df_median = df[\"total_score\"].median()\n",
    "\n",
    "print(f\"Maximum = {df_max}\")\n",
    "print(f\"Minimum = {df_min}\")\n",
    "print(f\"Minimum = {df_median}\")\n",
    "print(f\"Minimum = {df_mean}\")"
   ]
  },
  {
   "cell_type": "code",
   "execution_count": 36,
   "metadata": {
    "colab": {
     "base_uri": "https://localhost:8080/",
     "height": 202
    },
    "colab_type": "code",
    "id": "1oTYpfjUgV7U",
    "outputId": "c26f1e9d-11bd-477e-b292-c9c4febc5e15"
   },
   "outputs": [
    {
     "data": {
      "text/html": [
       "<div>\n",
       "<style scoped>\n",
       "    .dataframe tbody tr th:only-of-type {\n",
       "        vertical-align: middle;\n",
       "    }\n",
       "\n",
       "    .dataframe tbody tr th {\n",
       "        vertical-align: top;\n",
       "    }\n",
       "\n",
       "    .dataframe thead th {\n",
       "        text-align: right;\n",
       "    }\n",
       "</style>\n",
       "<table border=\"1\" class=\"dataframe\">\n",
       "  <thead>\n",
       "    <tr style=\"text-align: right;\">\n",
       "      <th></th>\n",
       "      <th>Season</th>\n",
       "      <th>Daynum</th>\n",
       "      <th>Wteam</th>\n",
       "      <th>Wscore</th>\n",
       "      <th>Lteam</th>\n",
       "      <th>Lscore</th>\n",
       "      <th>Wloc</th>\n",
       "      <th>Numot</th>\n",
       "      <th>total_score</th>\n",
       "    </tr>\n",
       "  </thead>\n",
       "  <tbody>\n",
       "    <tr>\n",
       "      <th>0</th>\n",
       "      <td>1985</td>\n",
       "      <td>20</td>\n",
       "      <td>1228</td>\n",
       "      <td>81</td>\n",
       "      <td>1328</td>\n",
       "      <td>64</td>\n",
       "      <td>N</td>\n",
       "      <td>0</td>\n",
       "      <td>145</td>\n",
       "    </tr>\n",
       "    <tr>\n",
       "      <th>1</th>\n",
       "      <td>1985</td>\n",
       "      <td>25</td>\n",
       "      <td>1106</td>\n",
       "      <td>77</td>\n",
       "      <td>1354</td>\n",
       "      <td>70</td>\n",
       "      <td>H</td>\n",
       "      <td>0</td>\n",
       "      <td>147</td>\n",
       "    </tr>\n",
       "    <tr>\n",
       "      <th>2</th>\n",
       "      <td>1985</td>\n",
       "      <td>25</td>\n",
       "      <td>1112</td>\n",
       "      <td>63</td>\n",
       "      <td>1223</td>\n",
       "      <td>56</td>\n",
       "      <td>H</td>\n",
       "      <td>0</td>\n",
       "      <td>119</td>\n",
       "    </tr>\n",
       "    <tr>\n",
       "      <th>3</th>\n",
       "      <td>1985</td>\n",
       "      <td>25</td>\n",
       "      <td>1165</td>\n",
       "      <td>70</td>\n",
       "      <td>1432</td>\n",
       "      <td>54</td>\n",
       "      <td>H</td>\n",
       "      <td>0</td>\n",
       "      <td>124</td>\n",
       "    </tr>\n",
       "    <tr>\n",
       "      <th>4</th>\n",
       "      <td>1985</td>\n",
       "      <td>25</td>\n",
       "      <td>1192</td>\n",
       "      <td>86</td>\n",
       "      <td>1447</td>\n",
       "      <td>74</td>\n",
       "      <td>H</td>\n",
       "      <td>0</td>\n",
       "      <td>160</td>\n",
       "    </tr>\n",
       "  </tbody>\n",
       "</table>\n",
       "</div>"
      ],
      "text/plain": [
       "   Season  Daynum  Wteam  Wscore  Lteam  Lscore Wloc  Numot  total_score\n",
       "0    1985      20   1228      81   1328      64    N      0          145\n",
       "1    1985      25   1106      77   1354      70    H      0          147\n",
       "2    1985      25   1112      63   1223      56    H      0          119\n",
       "3    1985      25   1165      70   1432      54    H      0          124\n",
       "4    1985      25   1192      86   1447      74    H      0          160"
      ]
     },
     "execution_count": 36,
     "metadata": {
      "tags": []
     },
     "output_type": "execute_result"
    }
   ],
   "source": [
    "df.head()\n"
   ]
  },
  {
   "cell_type": "markdown",
   "metadata": {
    "colab_type": "text",
    "id": "_qa-S2g0IQrT"
   },
   "source": [
    "__Q3: Find the average total score for each year (season).__ "
   ]
  },
  {
   "cell_type": "code",
   "execution_count": 8,
   "metadata": {
    "colab": {
     "base_uri": "https://localhost:8080/",
     "height": 139
    },
    "colab_type": "code",
    "id": "aWyd39Vwc6bd",
    "outputId": "1ffe7631-28d8-4e39-874f-5475fbdb5028"
   },
   "outputs": [
    {
     "data": {
      "text/plain": [
       "Season\n",
       "1985    138.583356\n",
       "1986    138.447528\n",
       "1987    144.764496\n",
       "1988    147.470796\n",
       "1989    151.259351\n",
       "Name: total_score, dtype: float64"
      ]
     },
     "execution_count": 8,
     "metadata": {
      "tags": []
     },
     "output_type": "execute_result"
    }
   ],
   "source": [
    "year_avg = df.groupby(\"Season\")['total_score'].mean()\n",
    "df['year_avg'] = year_avg\n",
    "year_avg.head()\n"
   ]
  },
  {
   "cell_type": "markdown",
   "metadata": {
    "colab_type": "text",
    "id": "imXNpjC1IQrU"
   },
   "source": [
    "__Q4: Plot a time series plot of average total score by year (season)__ \n",
    "\n",
    "Hint: search Google for: how to plot a pandas series or [read the user guide](https://pandas.pydata.org/docs/user_guide/visualization.html)\n"
   ]
  },
  {
   "cell_type": "code",
   "execution_count": 41,
   "metadata": {
    "colab": {
     "base_uri": "https://localhost:8080/",
     "height": 297
    },
    "colab_type": "code",
    "id": "jrTznMMyg80a",
    "outputId": "a1bc0394-aed1-4189-aa21-bf3b1b455b60"
   },
   "outputs": [
    {
     "data": {
      "text/plain": [
       "<matplotlib.axes._subplots.AxesSubplot at 0x7f0194adf470>"
      ]
     },
     "execution_count": 41,
     "metadata": {
      "tags": []
     },
     "output_type": "execute_result"
    },
    {
     "data": {
      "image/png": "[encoded data removed]",
      "text/plain": [
       "<Figure size 432x288 with 1 Axes>"
      ]
     },
     "metadata": {
      "needs_background": "light",
      "tags": []
     },
     "output_type": "display_data"
    }
   ],
   "source": [
    "import seaborn as sns\n",
    "df[['Season','total_score']] \n",
    "sns.lineplot(data=df, x=\"Season\" , y=\"total_score\")\n",
    "\n",
    "\n",
    "\n",
    "\n"
   ]
  },
  {
   "cell_type": "markdown",
   "metadata": {
    "colab_type": "text",
    "id": "b9OTlGDYIQrW"
   },
   "source": [
    "__Q5: Which year has the highest percentage of blowout games, which is defined as a winning margin of at least 30 points?__ \n",
    "\n"
   ]
  },
  {
   "cell_type": "code",
   "execution_count": 65,
   "metadata": {
    "colab": {
     "base_uri": "https://localhost:8080/",
     "height": 35
    },
    "colab_type": "code",
    "id": "X_xYGxnDyrSG",
    "outputId": "eb403767-a4fe-46a3-8f12-2809e772c502"
   },
   "outputs": [
    {
     "data": {
      "text/plain": [
       "1985"
      ]
     },
     "execution_count": 65,
     "metadata": {
      "tags": []
     },
     "output_type": "execute_result"
    }
   ],
   "source": [
    "df.head()\n",
    "margin = df['Wscore'] - df['Lscore']\n",
    "df['margin'] = margin\n",
    "\n",
    "df_margin = df[df['margin']>30].head()\n",
    "df_margin.groupby('Season').count().margin.idxmax()"
   ]
  },
  {
   "cell_type": "markdown",
   "metadata": {
    "colab_type": "text",
    "id": "ib6-mtb5UqzZ"
   },
   "source": [
    "`**Q6: For each team and season combination,   \n",
    "a) find the average number of points scored by the team per game in each season;  \n",
    "b) plot the average points scored by team 1461 by year.**\n",
    "\n",
    "Hint: This requires you to consider both the case when the team won (Wscore) and when the team lost (Lscore).  \n",
    "Your answer for each team-year combination should be between Wscore_when_winning and Lscore_when_losing in the last dataframe of the tutorial. "
   ]
  },
  {
   "cell_type": "code",
   "execution_count": 68,
   "metadata": {
    "colab": {
     "base_uri": "https://localhost:8080/",
     "height": 202
    },
    "colab_type": "code",
    "id": "7Ia2XEks8bXH",
    "outputId": "62033a13-a3f3-4525-acc2-867864f85b9a"
   },
   "outputs": [
    {
     "data": {
      "text/html": [
       "<div>\n",
       "<style scoped>\n",
       "    .dataframe tbody tr th:only-of-type {\n",
       "        vertical-align: middle;\n",
       "    }\n",
       "\n",
       "    .dataframe tbody tr th {\n",
       "        vertical-align: top;\n",
       "    }\n",
       "\n",
       "    .dataframe thead th {\n",
       "        text-align: right;\n",
       "    }\n",
       "</style>\n",
       "<table border=\"1\" class=\"dataframe\">\n",
       "  <thead>\n",
       "    <tr style=\"text-align: right;\">\n",
       "      <th></th>\n",
       "      <th>Season</th>\n",
       "      <th>Daynum</th>\n",
       "      <th>Wteam</th>\n",
       "      <th>Wscore</th>\n",
       "      <th>Lteam</th>\n",
       "      <th>Lscore</th>\n",
       "      <th>Wloc</th>\n",
       "      <th>Numot</th>\n",
       "      <th>total_score</th>\n",
       "      <th>margin</th>\n",
       "    </tr>\n",
       "  </thead>\n",
       "  <tbody>\n",
       "    <tr>\n",
       "      <th>0</th>\n",
       "      <td>1985</td>\n",
       "      <td>20</td>\n",
       "      <td>1228</td>\n",
       "      <td>81</td>\n",
       "      <td>1328</td>\n",
       "      <td>64</td>\n",
       "      <td>N</td>\n",
       "      <td>0</td>\n",
       "      <td>145</td>\n",
       "      <td>17</td>\n",
       "    </tr>\n",
       "    <tr>\n",
       "      <th>1</th>\n",
       "      <td>1985</td>\n",
       "      <td>25</td>\n",
       "      <td>1106</td>\n",
       "      <td>77</td>\n",
       "      <td>1354</td>\n",
       "      <td>70</td>\n",
       "      <td>H</td>\n",
       "      <td>0</td>\n",
       "      <td>147</td>\n",
       "      <td>7</td>\n",
       "    </tr>\n",
       "    <tr>\n",
       "      <th>2</th>\n",
       "      <td>1985</td>\n",
       "      <td>25</td>\n",
       "      <td>1112</td>\n",
       "      <td>63</td>\n",
       "      <td>1223</td>\n",
       "      <td>56</td>\n",
       "      <td>H</td>\n",
       "      <td>0</td>\n",
       "      <td>119</td>\n",
       "      <td>7</td>\n",
       "    </tr>\n",
       "    <tr>\n",
       "      <th>3</th>\n",
       "      <td>1985</td>\n",
       "      <td>25</td>\n",
       "      <td>1165</td>\n",
       "      <td>70</td>\n",
       "      <td>1432</td>\n",
       "      <td>54</td>\n",
       "      <td>H</td>\n",
       "      <td>0</td>\n",
       "      <td>124</td>\n",
       "      <td>16</td>\n",
       "    </tr>\n",
       "    <tr>\n",
       "      <th>4</th>\n",
       "      <td>1985</td>\n",
       "      <td>25</td>\n",
       "      <td>1192</td>\n",
       "      <td>86</td>\n",
       "      <td>1447</td>\n",
       "      <td>74</td>\n",
       "      <td>H</td>\n",
       "      <td>0</td>\n",
       "      <td>160</td>\n",
       "      <td>12</td>\n",
       "    </tr>\n",
       "  </tbody>\n",
       "</table>\n",
       "</div>"
      ],
      "text/plain": [
       "   Season  Daynum  Wteam  Wscore  ...  Wloc  Numot total_score  margin\n",
       "0    1985      20   1228      81  ...     N      0         145      17\n",
       "1    1985      25   1106      77  ...     H      0         147       7\n",
       "2    1985      25   1112      63  ...     H      0         119       7\n",
       "3    1985      25   1165      70  ...     H      0         124      16\n",
       "4    1985      25   1192      86  ...     H      0         160      12\n",
       "\n",
       "[5 rows x 10 columns]"
      ]
     },
     "execution_count": 68,
     "metadata": {
      "tags": []
     },
     "output_type": "execute_result"
    }
   ],
   "source": [
    "df.head()\n"
   ]
  },
  {
   "cell_type": "code",
   "execution_count": 107,
   "metadata": {
    "colab": {},
    "colab_type": "code",
    "id": "fhil__fm-iG4"
   },
   "outputs": [],
   "source": [
    "wdummy = df.copy()\n",
    "wdummy['flag'] = True\n",
    "wdummy = wdummy.groupby(by=['Season','Wteam']).flag.sum()\n",
    "wscores = df.groupby(by=['Season', 'Wteam']).Wscore.sum()\n",
    "wscores = wscores.reset_index()\n",
    "wdummy = wdummy.reset_index()"
   ]
  },
  {
   "cell_type": "code",
   "execution_count": 106,
   "metadata": {
    "colab": {},
    "colab_type": "code",
    "id": "SFKDqQaFWH2y"
   },
   "outputs": [],
   "source": [
    "ldummy = df.copy()\n",
    "ldummy['flag'] = True\n",
    "ldummy = ldummy.groupby(by=['Season','Lteam']).flag.sum()\n",
    "lscores = df.groupby(by=['Season', 'Lteam']).Lscore.sum()\n",
    "lscores = lscores.reset_index()\n",
    "ldummy = ldummy.reset_index()"
   ]
  },
  {
   "cell_type": "code",
   "execution_count": 108,
   "metadata": {
    "colab": {
     "base_uri": "https://localhost:8080/",
     "height": 415
    },
    "colab_type": "code",
    "id": "IiUlY65PItHG",
    "outputId": "b901d349-331f-4ffb-97f7-3f4e25e9f045"
   },
   "outputs": [
    {
     "data": {
      "text/html": [
       "<div>\n",
       "<style scoped>\n",
       "    .dataframe tbody tr th:only-of-type {\n",
       "        vertical-align: middle;\n",
       "    }\n",
       "\n",
       "    .dataframe tbody tr th {\n",
       "        vertical-align: top;\n",
       "    }\n",
       "\n",
       "    .dataframe thead th {\n",
       "        text-align: right;\n",
       "    }\n",
       "</style>\n",
       "<table border=\"1\" class=\"dataframe\">\n",
       "  <thead>\n",
       "    <tr style=\"text-align: right;\">\n",
       "      <th></th>\n",
       "      <th>Season</th>\n",
       "      <th>Lteam</th>\n",
       "      <th>Lscore</th>\n",
       "    </tr>\n",
       "  </thead>\n",
       "  <tbody>\n",
       "    <tr>\n",
       "      <th>0</th>\n",
       "      <td>1985</td>\n",
       "      <td>1102</td>\n",
       "      <td>1159</td>\n",
       "    </tr>\n",
       "    <tr>\n",
       "      <th>1</th>\n",
       "      <td>1985</td>\n",
       "      <td>1103</td>\n",
       "      <td>772</td>\n",
       "    </tr>\n",
       "    <tr>\n",
       "      <th>2</th>\n",
       "      <td>1985</td>\n",
       "      <td>1104</td>\n",
       "      <td>541</td>\n",
       "    </tr>\n",
       "    <tr>\n",
       "      <th>3</th>\n",
       "      <td>1985</td>\n",
       "      <td>1106</td>\n",
       "      <td>968</td>\n",
       "    </tr>\n",
       "    <tr>\n",
       "      <th>4</th>\n",
       "      <td>1985</td>\n",
       "      <td>1108</td>\n",
       "      <td>444</td>\n",
       "    </tr>\n",
       "    <tr>\n",
       "      <th>...</th>\n",
       "      <td>...</td>\n",
       "      <td>...</td>\n",
       "      <td>...</td>\n",
       "    </tr>\n",
       "    <tr>\n",
       "      <th>10178</th>\n",
       "      <td>2016</td>\n",
       "      <td>1460</td>\n",
       "      <td>796</td>\n",
       "    </tr>\n",
       "    <tr>\n",
       "      <th>10179</th>\n",
       "      <td>2016</td>\n",
       "      <td>1461</td>\n",
       "      <td>1229</td>\n",
       "    </tr>\n",
       "    <tr>\n",
       "      <th>10180</th>\n",
       "      <td>2016</td>\n",
       "      <td>1462</td>\n",
       "      <td>356</td>\n",
       "    </tr>\n",
       "    <tr>\n",
       "      <th>10181</th>\n",
       "      <td>2016</td>\n",
       "      <td>1463</td>\n",
       "      <td>368</td>\n",
       "    </tr>\n",
       "    <tr>\n",
       "      <th>10182</th>\n",
       "      <td>2016</td>\n",
       "      <td>1464</td>\n",
       "      <td>1496</td>\n",
       "    </tr>\n",
       "  </tbody>\n",
       "</table>\n",
       "<p>10183 rows × 3 columns</p>\n",
       "</div>"
      ],
      "text/plain": [
       "       Season  Lteam  Lscore\n",
       "0        1985   1102    1159\n",
       "1        1985   1103     772\n",
       "2        1985   1104     541\n",
       "3        1985   1106     968\n",
       "4        1985   1108     444\n",
       "...       ...    ...     ...\n",
       "10178    2016   1460     796\n",
       "10179    2016   1461    1229\n",
       "10180    2016   1462     356\n",
       "10181    2016   1463     368\n",
       "10182    2016   1464    1496\n",
       "\n",
       "[10183 rows x 3 columns]"
      ]
     },
     "execution_count": 108,
     "metadata": {
      "tags": []
     },
     "output_type": "execute_result"
    }
   ],
   "source": [
    "lscores"
   ]
  },
  {
   "cell_type": "code",
   "execution_count": 116,
   "metadata": {
    "colab": {},
    "colab_type": "code",
    "id": "hfnfp42_Du90"
   },
   "outputs": [],
   "source": [
    "dummy = pd.merge(wdummy,ldummy,left_on=['Season','Wteam'],right_on=['Season','Lteam'])\n",
    "dummy['plays'] = dummy['flag_x'] + dummy['flag_y']\n",
    "dummy_scores = pd.merge(wscores,lscores,left_on=['Season','Wteam'],right_on=['Season','Lteam'])"
   ]
  },
  {
   "cell_type": "code",
   "execution_count": 119,
   "metadata": {
    "colab": {},
    "colab_type": "code",
    "id": "DRw973wrI-E6"
   },
   "outputs": [],
   "source": [
    "dummy_finale = pd.merge(dummy,dummy_scores,left_on=['Season','Wteam','Lteam'],right_on=['Season','Wteam','Lteam'])"
   ]
  },
  {
   "cell_type": "code",
   "execution_count": 120,
   "metadata": {
    "colab": {
     "base_uri": "https://localhost:8080/",
     "height": 415
    },
    "colab_type": "code",
    "id": "xS5oUtojI_hv",
    "outputId": "18602ba4-62c7-465c-fb3b-7719e6b6b4b8"
   },
   "outputs": [
    {
     "data": {
      "text/html": [
       "<div>\n",
       "<style scoped>\n",
       "    .dataframe tbody tr th:only-of-type {\n",
       "        vertical-align: middle;\n",
       "    }\n",
       "\n",
       "    .dataframe tbody tr th {\n",
       "        vertical-align: top;\n",
       "    }\n",
       "\n",
       "    .dataframe thead th {\n",
       "        text-align: right;\n",
       "    }\n",
       "</style>\n",
       "<table border=\"1\" class=\"dataframe\">\n",
       "  <thead>\n",
       "    <tr style=\"text-align: right;\">\n",
       "      <th></th>\n",
       "      <th>Season</th>\n",
       "      <th>Wteam</th>\n",
       "      <th>flag_x</th>\n",
       "      <th>Lteam</th>\n",
       "      <th>flag_y</th>\n",
       "      <th>plays</th>\n",
       "      <th>Wscore</th>\n",
       "      <th>Lscore</th>\n",
       "    </tr>\n",
       "  </thead>\n",
       "  <tbody>\n",
       "    <tr>\n",
       "      <th>0</th>\n",
       "      <td>1985</td>\n",
       "      <td>1102</td>\n",
       "      <td>5.0</td>\n",
       "      <td>1102</td>\n",
       "      <td>19.0</td>\n",
       "      <td>24.0</td>\n",
       "      <td>355</td>\n",
       "      <td>1159</td>\n",
       "    </tr>\n",
       "    <tr>\n",
       "      <th>1</th>\n",
       "      <td>1985</td>\n",
       "      <td>1103</td>\n",
       "      <td>9.0</td>\n",
       "      <td>1103</td>\n",
       "      <td>14.0</td>\n",
       "      <td>23.0</td>\n",
       "      <td>632</td>\n",
       "      <td>772</td>\n",
       "    </tr>\n",
       "    <tr>\n",
       "      <th>2</th>\n",
       "      <td>1985</td>\n",
       "      <td>1104</td>\n",
       "      <td>21.0</td>\n",
       "      <td>1104</td>\n",
       "      <td>9.0</td>\n",
       "      <td>30.0</td>\n",
       "      <td>1514</td>\n",
       "      <td>541</td>\n",
       "    </tr>\n",
       "    <tr>\n",
       "      <th>3</th>\n",
       "      <td>1985</td>\n",
       "      <td>1106</td>\n",
       "      <td>10.0</td>\n",
       "      <td>1106</td>\n",
       "      <td>14.0</td>\n",
       "      <td>24.0</td>\n",
       "      <td>751</td>\n",
       "      <td>968</td>\n",
       "    </tr>\n",
       "    <tr>\n",
       "      <th>4</th>\n",
       "      <td>1985</td>\n",
       "      <td>1108</td>\n",
       "      <td>19.0</td>\n",
       "      <td>1108</td>\n",
       "      <td>6.0</td>\n",
       "      <td>25.0</td>\n",
       "      <td>1631</td>\n",
       "      <td>444</td>\n",
       "    </tr>\n",
       "    <tr>\n",
       "      <th>...</th>\n",
       "      <td>...</td>\n",
       "      <td>...</td>\n",
       "      <td>...</td>\n",
       "      <td>...</td>\n",
       "      <td>...</td>\n",
       "      <td>...</td>\n",
       "      <td>...</td>\n",
       "      <td>...</td>\n",
       "    </tr>\n",
       "    <tr>\n",
       "      <th>10164</th>\n",
       "      <td>2016</td>\n",
       "      <td>1460</td>\n",
       "      <td>20.0</td>\n",
       "      <td>1460</td>\n",
       "      <td>13.0</td>\n",
       "      <td>33.0</td>\n",
       "      <td>1469</td>\n",
       "      <td>796</td>\n",
       "    </tr>\n",
       "    <tr>\n",
       "      <th>10165</th>\n",
       "      <td>2016</td>\n",
       "      <td>1461</td>\n",
       "      <td>12.0</td>\n",
       "      <td>1461</td>\n",
       "      <td>18.0</td>\n",
       "      <td>30.0</td>\n",
       "      <td>881</td>\n",
       "      <td>1229</td>\n",
       "    </tr>\n",
       "    <tr>\n",
       "      <th>10166</th>\n",
       "      <td>2016</td>\n",
       "      <td>1462</td>\n",
       "      <td>27.0</td>\n",
       "      <td>1462</td>\n",
       "      <td>5.0</td>\n",
       "      <td>32.0</td>\n",
       "      <td>2247</td>\n",
       "      <td>356</td>\n",
       "    </tr>\n",
       "    <tr>\n",
       "      <th>10167</th>\n",
       "      <td>2016</td>\n",
       "      <td>1463</td>\n",
       "      <td>21.0</td>\n",
       "      <td>1463</td>\n",
       "      <td>6.0</td>\n",
       "      <td>27.0</td>\n",
       "      <td>1643</td>\n",
       "      <td>368</td>\n",
       "    </tr>\n",
       "    <tr>\n",
       "      <th>10168</th>\n",
       "      <td>2016</td>\n",
       "      <td>1464</td>\n",
       "      <td>9.0</td>\n",
       "      <td>1464</td>\n",
       "      <td>21.0</td>\n",
       "      <td>30.0</td>\n",
       "      <td>773</td>\n",
       "      <td>1496</td>\n",
       "    </tr>\n",
       "  </tbody>\n",
       "</table>\n",
       "<p>10169 rows × 8 columns</p>\n",
       "</div>"
      ],
      "text/plain": [
       "       Season  Wteam  flag_x  Lteam  flag_y  plays  Wscore  Lscore\n",
       "0        1985   1102     5.0   1102    19.0   24.0     355    1159\n",
       "1        1985   1103     9.0   1103    14.0   23.0     632     772\n",
       "2        1985   1104    21.0   1104     9.0   30.0    1514     541\n",
       "3        1985   1106    10.0   1106    14.0   24.0     751     968\n",
       "4        1985   1108    19.0   1108     6.0   25.0    1631     444\n",
       "...       ...    ...     ...    ...     ...    ...     ...     ...\n",
       "10164    2016   1460    20.0   1460    13.0   33.0    1469     796\n",
       "10165    2016   1461    12.0   1461    18.0   30.0     881    1229\n",
       "10166    2016   1462    27.0   1462     5.0   32.0    2247     356\n",
       "10167    2016   1463    21.0   1463     6.0   27.0    1643     368\n",
       "10168    2016   1464     9.0   1464    21.0   30.0     773    1496\n",
       "\n",
       "[10169 rows x 8 columns]"
      ]
     },
     "execution_count": 120,
     "metadata": {
      "tags": []
     },
     "output_type": "execute_result"
    }
   ],
   "source": [
    "dummy_finale"
   ]
  },
  {
   "cell_type": "code",
   "execution_count": 123,
   "metadata": {
    "colab": {},
    "colab_type": "code",
    "id": "7UjfIQmmFff2"
   },
   "outputs": [],
   "source": [
    "dummy_finale['avg'] = (dummy_finale['Lscore']*dummy_finale['flag_y'] + dummy_finale['Wscore']*dummy_finale['flag_x'])/dummy_finale['plays']"
   ]
  },
  {
   "cell_type": "code",
   "execution_count": 124,
   "metadata": {
    "colab": {
     "base_uri": "https://localhost:8080/",
     "height": 415
    },
    "colab_type": "code",
    "id": "kkIhL4AqEP6H",
    "outputId": "2995edf9-777c-4d18-96c3-10245b6ccf34"
   },
   "outputs": [
    {
     "data": {
      "text/html": [
       "<div>\n",
       "<style scoped>\n",
       "    .dataframe tbody tr th:only-of-type {\n",
       "        vertical-align: middle;\n",
       "    }\n",
       "\n",
       "    .dataframe tbody tr th {\n",
       "        vertical-align: top;\n",
       "    }\n",
       "\n",
       "    .dataframe thead th {\n",
       "        text-align: right;\n",
       "    }\n",
       "</style>\n",
       "<table border=\"1\" class=\"dataframe\">\n",
       "  <thead>\n",
       "    <tr style=\"text-align: right;\">\n",
       "      <th></th>\n",
       "      <th>Season</th>\n",
       "      <th>Wteam</th>\n",
       "      <th>flag_x</th>\n",
       "      <th>Lteam</th>\n",
       "      <th>flag_y</th>\n",
       "      <th>plays</th>\n",
       "      <th>Wscore</th>\n",
       "      <th>Lscore</th>\n",
       "      <th>avg</th>\n",
       "    </tr>\n",
       "  </thead>\n",
       "  <tbody>\n",
       "    <tr>\n",
       "      <th>0</th>\n",
       "      <td>1985</td>\n",
       "      <td>1102</td>\n",
       "      <td>5.0</td>\n",
       "      <td>1102</td>\n",
       "      <td>19.0</td>\n",
       "      <td>24.0</td>\n",
       "      <td>355</td>\n",
       "      <td>1159</td>\n",
       "      <td>991.500000</td>\n",
       "    </tr>\n",
       "    <tr>\n",
       "      <th>1</th>\n",
       "      <td>1985</td>\n",
       "      <td>1103</td>\n",
       "      <td>9.0</td>\n",
       "      <td>1103</td>\n",
       "      <td>14.0</td>\n",
       "      <td>23.0</td>\n",
       "      <td>632</td>\n",
       "      <td>772</td>\n",
       "      <td>717.217391</td>\n",
       "    </tr>\n",
       "    <tr>\n",
       "      <th>2</th>\n",
       "      <td>1985</td>\n",
       "      <td>1104</td>\n",
       "      <td>21.0</td>\n",
       "      <td>1104</td>\n",
       "      <td>9.0</td>\n",
       "      <td>30.0</td>\n",
       "      <td>1514</td>\n",
       "      <td>541</td>\n",
       "      <td>1222.100000</td>\n",
       "    </tr>\n",
       "    <tr>\n",
       "      <th>3</th>\n",
       "      <td>1985</td>\n",
       "      <td>1106</td>\n",
       "      <td>10.0</td>\n",
       "      <td>1106</td>\n",
       "      <td>14.0</td>\n",
       "      <td>24.0</td>\n",
       "      <td>751</td>\n",
       "      <td>968</td>\n",
       "      <td>877.583333</td>\n",
       "    </tr>\n",
       "    <tr>\n",
       "      <th>4</th>\n",
       "      <td>1985</td>\n",
       "      <td>1108</td>\n",
       "      <td>19.0</td>\n",
       "      <td>1108</td>\n",
       "      <td>6.0</td>\n",
       "      <td>25.0</td>\n",
       "      <td>1631</td>\n",
       "      <td>444</td>\n",
       "      <td>1346.120000</td>\n",
       "    </tr>\n",
       "    <tr>\n",
       "      <th>...</th>\n",
       "      <td>...</td>\n",
       "      <td>...</td>\n",
       "      <td>...</td>\n",
       "      <td>...</td>\n",
       "      <td>...</td>\n",
       "      <td>...</td>\n",
       "      <td>...</td>\n",
       "      <td>...</td>\n",
       "      <td>...</td>\n",
       "    </tr>\n",
       "    <tr>\n",
       "      <th>10164</th>\n",
       "      <td>2016</td>\n",
       "      <td>1460</td>\n",
       "      <td>20.0</td>\n",
       "      <td>1460</td>\n",
       "      <td>13.0</td>\n",
       "      <td>33.0</td>\n",
       "      <td>1469</td>\n",
       "      <td>796</td>\n",
       "      <td>1203.878788</td>\n",
       "    </tr>\n",
       "    <tr>\n",
       "      <th>10165</th>\n",
       "      <td>2016</td>\n",
       "      <td>1461</td>\n",
       "      <td>12.0</td>\n",
       "      <td>1461</td>\n",
       "      <td>18.0</td>\n",
       "      <td>30.0</td>\n",
       "      <td>881</td>\n",
       "      <td>1229</td>\n",
       "      <td>1089.800000</td>\n",
       "    </tr>\n",
       "    <tr>\n",
       "      <th>10166</th>\n",
       "      <td>2016</td>\n",
       "      <td>1462</td>\n",
       "      <td>27.0</td>\n",
       "      <td>1462</td>\n",
       "      <td>5.0</td>\n",
       "      <td>32.0</td>\n",
       "      <td>2247</td>\n",
       "      <td>356</td>\n",
       "      <td>1951.531250</td>\n",
       "    </tr>\n",
       "    <tr>\n",
       "      <th>10167</th>\n",
       "      <td>2016</td>\n",
       "      <td>1463</td>\n",
       "      <td>21.0</td>\n",
       "      <td>1463</td>\n",
       "      <td>6.0</td>\n",
       "      <td>27.0</td>\n",
       "      <td>1643</td>\n",
       "      <td>368</td>\n",
       "      <td>1359.666667</td>\n",
       "    </tr>\n",
       "    <tr>\n",
       "      <th>10168</th>\n",
       "      <td>2016</td>\n",
       "      <td>1464</td>\n",
       "      <td>9.0</td>\n",
       "      <td>1464</td>\n",
       "      <td>21.0</td>\n",
       "      <td>30.0</td>\n",
       "      <td>773</td>\n",
       "      <td>1496</td>\n",
       "      <td>1279.100000</td>\n",
       "    </tr>\n",
       "  </tbody>\n",
       "</table>\n",
       "<p>10169 rows × 9 columns</p>\n",
       "</div>"
      ],
      "text/plain": [
       "       Season  Wteam  flag_x  Lteam  flag_y  plays  Wscore  Lscore          avg\n",
       "0        1985   1102     5.0   1102    19.0   24.0     355    1159   991.500000\n",
       "1        1985   1103     9.0   1103    14.0   23.0     632     772   717.217391\n",
       "2        1985   1104    21.0   1104     9.0   30.0    1514     541  1222.100000\n",
       "3        1985   1106    10.0   1106    14.0   24.0     751     968   877.583333\n",
       "4        1985   1108    19.0   1108     6.0   25.0    1631     444  1346.120000\n",
       "...       ...    ...     ...    ...     ...    ...     ...     ...          ...\n",
       "10164    2016   1460    20.0   1460    13.0   33.0    1469     796  1203.878788\n",
       "10165    2016   1461    12.0   1461    18.0   30.0     881    1229  1089.800000\n",
       "10166    2016   1462    27.0   1462     5.0   32.0    2247     356  1951.531250\n",
       "10167    2016   1463    21.0   1463     6.0   27.0    1643     368  1359.666667\n",
       "10168    2016   1464     9.0   1464    21.0   30.0     773    1496  1279.100000\n",
       "\n",
       "[10169 rows x 9 columns]"
      ]
     },
     "execution_count": 124,
     "metadata": {
      "tags": []
     },
     "output_type": "execute_result"
    }
   ],
   "source": [
    "dummy_finale"
   ]
  },
  {
   "cell_type": "code",
   "execution_count": 132,
   "metadata": {
    "colab": {},
    "colab_type": "code",
    "id": "JzhzenGcF2mW"
   },
   "outputs": [],
   "source": [
    "graph_data = dummy_finale[dummy_finale.Wteam == 1461]['avg'].to_list()\n",
    "year_data = dummy_finale[dummy_finale.Wteam == 1461]['Season'].to_list()"
   ]
  },
  {
   "cell_type": "code",
   "execution_count": 133,
   "metadata": {
    "colab": {
     "base_uri": "https://localhost:8080/",
     "height": 279
    },
    "colab_type": "code",
    "id": "Vgk5aCxpHM_s",
    "outputId": "c21ea1ba-5424-4e34-d61b-8794c91f4d40"
   },
   "outputs": [
    {
     "data": {
      "image/png": "[encoded data removed]",
      "text/plain": [
       "<Figure size 432x288 with 1 Axes>"
      ]
     },
     "metadata": {
      "needs_background": "light",
      "tags": []
     },
     "output_type": "display_data"
    }
   ],
   "source": [
    "plt.plot(year_data, graph_data)\n",
    "plt.ylabel('Average Score')\n",
    "plt.xlabel('Years')\n",
    "plt.show()\n"
   ]
  },
  {
   "cell_type": "code",
   "execution_count": null,
   "metadata": {
    "colab": {},
    "colab_type": "code",
    "id": "-Ja6_oUbNURv"
   },
   "outputs": [],
   "source": []
  }
 ],
 "metadata": {
  "colab": {
   "name": "Lab1_assignment.ipynb",
   "provenance": []
  },
  "kernelspec": {
   "display_name": "Python 3",
   "language": "python",
   "name": "python3"
  },
  "language_info": {
   "codemirror_mode": {
    "name": "ipython",
    "version": 3
   },
   "file_extension": ".py",
   "mimetype": "text/x-python",
   "name": "python",
   "nbconvert_exporter": "python",
   "pygments_lexer": "ipython3",
   "version": "3.7.6"
  },
  "toc": {
   "base_numbering": 1,
   "nav_menu": {},
   "number_sections": true,
   "sideBar": true,
   "skip_h1_title": false,
   "title_cell": "Table of Contents",
   "title_sidebar": "Contents",
   "toc_cell": false,
   "toc_position": {},
   "toc_section_display": true,
   "toc_window_display": false
  }
 },
 "nbformat": 4,
 "nbformat_minor": 4
}
